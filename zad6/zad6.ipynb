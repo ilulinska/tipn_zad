{
 "cells": [
  {
   "cell_type": "markdown",
   "metadata": {},
   "source": [
    "##Superowy quiz na osobowość\n",
    "##Zapraszam do rozwiązywania :)"
   ]
  },
  {
   "cell_type": "code",
   "execution_count": 1,
   "metadata": {},
   "outputs": [],
   "source": [
    "pyt1 = \"Czy spostrzegasz siebie jako osobę lubiącą towarzystwo innych, otwartą i optymistyczną?\"\n",
    "pyt2 = \"Czy martwi Cię, gdy masz jakieś nieskończone zadanie?\"\n",
    "pyt3 = \"Czy bardziej ufasz swojemu przeczuciu niż doświadczeniu?\"\n",
    "pyt4 = \"Czy jesteś osobą spóźnialską czy raczej zawsze jesteś na czas?\"\n",
    "pyt5 = \"Czy bardziej wolisz niezaplanowane wydarzenie od zaplanowanego?\"\n",
    "pyt6 = \"Czy często jesteś kapryśny?\"\n",
    "pyt7 = \"Czy uważasz, że lepiej jest, gdy rzeczy dzieją się same, niż gdy wszystko jest zaplanowane?\"\n",
    "pyt8 = \"Czy określiłbyś/-abyś siebie jako osobę niezdecydowaną?\"\n",
    "pyt9 = \"Czy jesteś osobą bardziej łagodną niż stanowczą?\"\n",
    "pyt10 = \"Czy częściej kierujesz się sercem niż rozumem?\"\n",
    "punkciki = []"
   ]
  },
  {
   "cell_type": "code",
   "execution_count": 9,
   "metadata": {},
   "outputs": [],
   "source": [
    "def quiz(os):\n",
    "    pytanka = [pyt1, pyt2, pyt3, pyt4, pyt5, pyt6, pyt7, pyt8, pyt9, pyt10]\n",
    "    \n",
    "def zadaj_pytanie(pyt1):\n",
    "    print(pyt1)\n",
    "    odp = input(\"Podczas, gdy na skali: 1 - zupełnie się nie zgadzam, a 5 - całkowicie się zgadzam\")\n",
    "    odp = int(odp)\n",
    "    if odp < 1 or odp > 5:\n",
    "        print(\"Niepoprawna liczba. Spróbuj jeszcze raz\")\n",
    "    else:\n",
    "        return odp"
   ]
  },
  {
   "cell_type": "code",
   "execution_count": 10,
   "metadata": {},
   "outputs": [
    {
     "name": "stdout",
     "output_type": "stream",
     "text": [
      "Czy spostrzegasz siebie jako osobę lubiącą towarzystwo innych, otwartą i optymistyczną?\n"
     ]
    },
    {
     "name": "stdin",
     "output_type": "stream",
     "text": [
      "Podczas, gdy na skali: 1 - zupełnie się nie zgadzam, a 5 - całkowicie się zgadzam 5\n"
     ]
    },
    {
     "name": "stdout",
     "output_type": "stream",
     "text": [
      "Czy martwi Cię, gdy masz jakieś nieskończone zadanie?\n"
     ]
    },
    {
     "name": "stdin",
     "output_type": "stream",
     "text": [
      "Podczas, gdy na skali: 1 - zupełnie się nie zgadzam, a 5 - całkowicie się zgadzam 5\n"
     ]
    },
    {
     "name": "stdout",
     "output_type": "stream",
     "text": [
      "Czy bardziej ufasz swojemu przeczuciu niż doświadczeniu?\n"
     ]
    },
    {
     "name": "stdin",
     "output_type": "stream",
     "text": [
      "Podczas, gdy na skali: 1 - zupełnie się nie zgadzam, a 5 - całkowicie się zgadzam 4\n"
     ]
    },
    {
     "name": "stdout",
     "output_type": "stream",
     "text": [
      "Czy jesteś osobą punktualną?\n"
     ]
    },
    {
     "name": "stdin",
     "output_type": "stream",
     "text": [
      "Podczas, gdy na skali: 1 - zupełnie się nie zgadzam, a 5 - całkowicie się zgadzam 4\n"
     ]
    },
    {
     "name": "stdout",
     "output_type": "stream",
     "text": [
      "Czy bardziej wolisz niezaplanowane wydarzenie od zaplanowanego?\n"
     ]
    },
    {
     "name": "stdin",
     "output_type": "stream",
     "text": [
      "Podczas, gdy na skali: 1 - zupełnie się nie zgadzam, a 5 - całkowicie się zgadzam 2\n"
     ]
    },
    {
     "name": "stdout",
     "output_type": "stream",
     "text": [
      "Czy często jesteś kapryśny?\n"
     ]
    },
    {
     "name": "stdin",
     "output_type": "stream",
     "text": [
      "Podczas, gdy na skali: 1 - zupełnie się nie zgadzam, a 5 - całkowicie się zgadzam 2\n"
     ]
    },
    {
     "name": "stdout",
     "output_type": "stream",
     "text": [
      "Czy uważasz, że lepiej jest, gdy rzeczy dzieją się same, niż gdy wszystko jest zaplanowane?\n"
     ]
    },
    {
     "name": "stdin",
     "output_type": "stream",
     "text": [
      "Podczas, gdy na skali: 1 - zupełnie się nie zgadzam, a 5 - całkowicie się zgadzam 5\n"
     ]
    },
    {
     "name": "stdout",
     "output_type": "stream",
     "text": [
      "Czy określiłbyś/-abyś siebie jako osobę zdecydowaną?\n"
     ]
    },
    {
     "name": "stdin",
     "output_type": "stream",
     "text": [
      "Podczas, gdy na skali: 1 - zupełnie się nie zgadzam, a 5 - całkowicie się zgadzam 5\n"
     ]
    },
    {
     "name": "stdout",
     "output_type": "stream",
     "text": [
      "Czy jesteś osobą bardziej stanowczą niż łagodną?\n"
     ]
    },
    {
     "name": "stdin",
     "output_type": "stream",
     "text": [
      "Podczas, gdy na skali: 1 - zupełnie się nie zgadzam, a 5 - całkowicie się zgadzam 1\n"
     ]
    },
    {
     "name": "stdout",
     "output_type": "stream",
     "text": [
      "Czy częściej kierujesz się sercem niż rozumem?\n"
     ]
    },
    {
     "name": "stdin",
     "output_type": "stream",
     "text": [
      "Podczas, gdy na skali: 1 - zupełnie się nie zgadzam, a 5 - całkowicie się zgadzam 5\n"
     ]
    },
    {
     "name": "stdout",
     "output_type": "stream",
     "text": [
      "Twój wynik to 38 . Harmonia i złoty środek to właśnie Ty! Dobrze radzisz sobie z planowaniem zadań i wyznaczaniem celów, ale nie masz też trudności z komunikacją. Adekwatnie do sytuacji, potrafisz kierować się sercem lub postawić na zdrowy rozsądek. Tak trzymać!\n"
     ]
    }
   ],
   "source": [
    "pkt = zadaj_pytanie(pyt1)\n",
    "punkciki.append(pkt)\n",
    "pkt = zadaj_pytanie(pyt2)\n",
    "punkciki.append(pkt)\n",
    "pkt = zadaj_pytanie(pyt3)\n",
    "punkciki.append(pkt)\n",
    "pkt = zadaj_pytanie(pyt4)\n",
    "punkciki.append(pkt)\n",
    "pkt = zadaj_pytanie(pyt5)\n",
    "punkciki.append(pkt)\n",
    "pkt = zadaj_pytanie(pyt6)\n",
    "punkciki.append(pkt)\n",
    "pkt = zadaj_pytanie(pyt7)\n",
    "punkciki.append(pkt)\n",
    "pkt = zadaj_pytanie(pyt8)\n",
    "punkciki.append(pkt)\n",
    "pkt = zadaj_pytanie(pyt9)\n",
    "punkciki.append(pkt)\n",
    "pkt = zadaj_pytanie(pyt10)\n",
    "punkciki.append(pkt)\n",
    "\n",
    "wynik = sum(punkciki)\n",
    "wynik = int(wynik)\n",
    "\n",
    "if wynik == 10:\n",
    "    print(\"Twój wynik to\", wynik, \".\", \"Jesteś osobą poważną i dojrzałą. Dążysz do zapewnienia sobie bezpieczeństwa i spokojnego życia, w czym pomaga Ci doskonały zmysł organizacji i planowania. Jednak nie bój się, czasami warto postawić na spontan! :)\")\n",
    "elif wynik > 10 or wynik < 35:\n",
    "    print(\"Twój wynik to\", wynik, \".\", \"Harmonia i złoty środek to właśnie Ty! Dobrze radzisz sobie z planowaniem zadań i wyznaczaniem celów, ale nie masz też trudności z komunikacją. Adekwatnie do sytuacji, potrafisz kierować się sercem lub postawić na zdrowy rozsądek. Tak trzymać!\")\n",
    "elif wynik > 35 or wynik < 50:\n",
    "    print(\"Twój wynik to\", wynik, \".\", \"Jesteś typowym lekkoduchem! Nie martwisz się drobnostkami, w życiu stawiasz na zabawę i miłe spędzanie czasu. Działasz pod wpływem chwili, stawiasz na spontaniczność. Pamiętaj jednak, że czasami warto zastanowić się nad podejmowaną decyzją.\")\n",
    "\n",
    "if wynik > 0:\n",
    "    punkciki.pop(0)\n",
    "    punkciki.pop(0)\n",
    "    punkciki.pop(0)\n",
    "    punkciki.pop(0)\n",
    "    punkciki.pop(0)\n",
    "    punkciki.pop(0)\n",
    "    punkciki.pop(0)\n",
    "    punkciki.pop(0)\n",
    "    punkciki.pop(0)\n",
    "    punkciki.pop(0)\n",
    "\n",
    "else:\n",
    "    print(\"To koniec quizu. Dziękuję za udzielenie odpowiedzi.\")"
   ]
  },
  {
   "cell_type": "code",
   "execution_count": null,
   "metadata": {},
   "outputs": [],
   "source": []
  }
 ],
 "metadata": {
  "kernelspec": {
   "display_name": "Python 3",
   "language": "python",
   "name": "python3"
  },
  "language_info": {
   "codemirror_mode": {
    "name": "ipython",
    "version": 3
   },
   "file_extension": ".py",
   "mimetype": "text/x-python",
   "name": "python",
   "nbconvert_exporter": "python",
   "pygments_lexer": "ipython3",
   "version": "3.7.0"
  }
 },
 "nbformat": 4,
 "nbformat_minor": 2
}
