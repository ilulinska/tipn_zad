{
 "cells": [
  {
   "cell_type": "code",
   "execution_count": 3,
   "metadata": {},
   "outputs": [],
   "source": [
    "przedmioty = [\"metodologia\", \"wdki\", \"statystyka\", \"wf\", \"logika\"]"
   ]
  },
  {
   "cell_type": "code",
   "execution_count": 13,
   "metadata": {},
   "outputs": [
    {
     "name": "stdin",
     "output_type": "stream",
     "text": [
      "Podaj pierwszą ocenę 5.0\n",
      "Podaj drugą ocenę 5.0\n",
      "Podaj trzecią ocenę 4.5\n",
      "Podaj czwartą ocenę 5.0\n",
      "Podaj piątą ocenę 4.0\n"
     ]
    }
   ],
   "source": [
    "lista = []\n",
    "ocena = input(\"Podaj pierwszą ocenę\")\n",
    "ocena = float(ocena)\n",
    "lista.append(ocena)\n",
    "ocena = input(\"Podaj drugą ocenę\")\n",
    "ocena = float(ocena)\n",
    "lista.append(ocena)\n",
    "ocena = input(\"Podaj trzecią ocenę\")\n",
    "ocena = float(ocena)\n",
    "lista.append(ocena)\n",
    "ocena = input(\"Podaj czwartą ocenę\")\n",
    "ocena = float(ocena)\n",
    "lista.append(ocena)\n",
    "ocena = input(\"Podaj piątą ocenę\")\n",
    "ocena = float(ocena)\n",
    "lista.append(ocena) "
   ]
  },
  {
   "cell_type": "code",
   "execution_count": 14,
   "metadata": {},
   "outputs": [
    {
     "data": {
      "text/plain": [
       "[5.0, 5.0, 4.5, 5.0, 4.0]"
      ]
     },
     "execution_count": 14,
     "metadata": {},
     "output_type": "execute_result"
    }
   ],
   "source": [
    "lista"
   ]
  },
  {
   "cell_type": "code",
   "execution_count": 15,
   "metadata": {},
   "outputs": [
    {
     "data": {
      "text/plain": [
       "23.5"
      ]
     },
     "execution_count": 15,
     "metadata": {},
     "output_type": "execute_result"
    }
   ],
   "source": [
    "sum(lista)"
   ]
  },
  {
   "cell_type": "code",
   "execution_count": 16,
   "metadata": {},
   "outputs": [
    {
     "data": {
      "text/plain": [
       "5"
      ]
     },
     "execution_count": 16,
     "metadata": {},
     "output_type": "execute_result"
    }
   ],
   "source": [
    "len(lista)"
   ]
  },
  {
   "cell_type": "code",
   "execution_count": 20,
   "metadata": {},
   "outputs": [
    {
     "data": {
      "text/plain": [
       "4.7"
      ]
     },
     "execution_count": 20,
     "metadata": {},
     "output_type": "execute_result"
    }
   ],
   "source": [
    "sum(lista) / len(lista)"
   ]
  },
  {
   "cell_type": "code",
   "execution_count": 21,
   "metadata": {},
   "outputs": [],
   "source": [
    "średnia = 4.7"
   ]
  },
  {
   "cell_type": "code",
   "execution_count": null,
   "metadata": {},
   "outputs": [],
   "source": []
  }
 ],
 "metadata": {
  "kernelspec": {
   "display_name": "Python 3",
   "language": "python",
   "name": "python3"
  },
  "language_info": {
   "codemirror_mode": {
    "name": "ipython",
    "version": 3
   },
   "file_extension": ".py",
   "mimetype": "text/x-python",
   "name": "python",
   "nbconvert_exporter": "python",
   "pygments_lexer": "ipython3",
   "version": "3.7.0"
  }
 },
 "nbformat": 4,
 "nbformat_minor": 2
}
